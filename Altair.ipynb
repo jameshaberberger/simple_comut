{
  "nbformat": 4,
  "nbformat_minor": 0,
  "metadata": {
    "colab": {
      "name": "Untitled4.ipynb",
      "private_outputs": true,
      "provenance": [],
      "collapsed_sections": [],
      "authorship_tag": "ABX9TyPjULwylpA6vcmZVAp48qMa",
      "include_colab_link": true
    },
    "kernelspec": {
      "name": "python3",
      "display_name": "Python 3"
    },
    "language_info": {
      "name": "python"
    }
  },
  "cells": [
    {
      "cell_type": "markdown",
      "metadata": {
        "id": "view-in-github",
        "colab_type": "text"
      },
      "source": [
        "<a href=\"https://colab.research.google.com/github/jameshaberberger/simple_comut/blob/master/Altair.ipynb\" target=\"_parent\"><img src=\"https://colab.research.google.com/assets/colab-badge.svg\" alt=\"Open In Colab\"/></a>"
      ]
    },
    {
      "cell_type": "code",
      "execution_count": null,
      "metadata": {
        "id": "7iv2MAoh6Lso"
      },
      "outputs": [],
      "source": [
        "import pandas as pd\n",
        "\n",
        "# Importing data (Vallen Lab | CoMut python package)\n",
        "df = pd.read_table('https://raw.githubusercontent.com/vanallenlab/comut/master/examples/tutorial_data/tutorial_mutation_data.tsv')"
      ]
    },
    {
      "cell_type": "code",
      "source": [
        "# Pivot Table (mostly for getting order / frequencies of each gene)\n",
        "tdf = df.pivot_table(\n",
        "    index=\"sample\", \n",
        "    columns=\"category\",\n",
        "    values=\"value\",\n",
        "    aggfunc=list\n",
        ")\n",
        "\n",
        "# Sorting of genes and samples\n",
        "tdf = tdf.reindex(category_list, axis=\"columns\") \\\n",
        "    .applymap(lambda x: 1 if isinstance(x, list) else 0) \\\n",
        "    .sort_values(by=category_list, ascending=False)"
      ],
      "metadata": {
        "id": "ry8tyseC8D2m"
      },
      "execution_count": null,
      "outputs": []
    },
    {
      "cell_type": "code",
      "source": [
        "import altair as alt\n",
        "\n",
        "# Hacky method, creating stacked 100% bar charts, allows us to use altair's package. \n",
        "alt.Chart(df).mark_bar().encode(\n",
        "    row=alt.Row(\"category:N\", spacing=0, header=alt.Header(labelAngle=0, labelAlign=\"left\"), sort=tdf.columns.to_list()),\n",
        "    x=alt.X(\"sample:N\", sort=tdf.index.to_list(), axis=alt.Axis(grid)),\n",
        "    y=alt.Y('count()', stack='normalize', axis=alt.Axis(labels=False, title=\"\")),\n",
        "    color=alt.Color(field=\"value\", type=\"nominal\")\n",
        ").properties(\n",
        "    height=30\n",
        ")"
      ],
      "metadata": {
        "id": "EUatpRpkxBRL"
      },
      "execution_count": null,
      "outputs": []
    }
  ]
}