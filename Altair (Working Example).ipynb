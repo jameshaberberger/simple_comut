{
  "nbformat": 4,
  "nbformat_minor": 0,
  "metadata": {
    "colab": {
      "name": "Untitled4.ipynb",
      "private_outputs": true,
      "provenance": [],
      "collapsed_sections": [],
      "authorship_tag": "ABX9TyMVIsl6tLLjpSa5AUSjQsbi",
      "include_colab_link": true
    },
    "kernelspec": {
      "name": "python3",
      "display_name": "Python 3"
    },
    "language_info": {
      "name": "python"
    }
  },
  "cells": [
    {
      "cell_type": "markdown",
      "metadata": {
        "id": "view-in-github",
        "colab_type": "text"
      },
      "source": [
        "<a href=\"https://colab.research.google.com/github/jameshaberberger/simple_comut/blob/master/Altair%20(Working%20Example).ipynb\" target=\"_parent\"><img src=\"https://colab.research.google.com/assets/colab-badge.svg\" alt=\"Open In Colab\"/></a>"
      ]
    },
    {
      "cell_type": "code",
      "execution_count": null,
      "metadata": {
        "id": "7iv2MAoh6Lso"
      },
      "outputs": [],
      "source": [
        "import pandas as pd\n",
        "df = pd.read_table('https://raw.githubusercontent.com/vanallenlab/comut/master/examples/tutorial_data/tutorial_mutation_data.tsv')"
      ]
    },
    {
      "cell_type": "code",
      "source": [
        "variant_types = df.value.unique()\n",
        "\n",
        "tdf = df.pivot_table(\n",
        "    index=\"sample\", \n",
        "    columns=\"category\",\n",
        "    values=\"value\",\n",
        "    aggfunc=list\n",
        ")\n",
        "category_list = df.groupby(\"category\")[\"sample\"].nunique().sort_values(ascending=False).index.to_list()\n",
        "\n",
        "tdf = tdf.reindex(category_list, axis=\"columns\") \\\n",
        "    .applymap(lambda x: 1 if isinstance(x, list) else 0) \\\n",
        "    .sort_values(by=category_list, ascending=False)\n"
      ],
      "metadata": {
        "id": "ry8tyseC8D2m"
      },
      "execution_count": null,
      "outputs": []
    },
    {
      "cell_type": "code",
      "source": [
        "category_order = {tdf.index[i]: i for i in range(tdf.shape[0])}\n",
        "sample_order = {tdf.columns[i]: i for i in range(tdf.shape[1])}\n",
        "\n",
        "import matplotlib as mpl\n",
        "import matplotlib.pyplot as plt\n",
        "import altair as alt\n",
        "\n",
        "alt.Chart(df).mark_rect().encode(\n",
        "    x='sample:N',\n",
        "    y='category:N',\n",
        "    color='value:N',\n",
        ")"
      ],
      "metadata": {
        "id": "zR3T06LwzvMt"
      },
      "execution_count": null,
      "outputs": []
    },
    {
      "cell_type": "code",
      "source": [
        "import altair as alt\n",
        "alt.Chart(df).mark_bar().encode(\n",
        "    row=alt.Row(\"category:N\", spacing=0, header=alt.Header(labelAngle=0, labelAlign=\"left\")),\n",
        "    x=alt.X(\"sample:N\"),\n",
        "    y=alt.Y('count()', stack='normalize', axis=alt.Axis(labels=False, title=\"\")),\n",
        "    color=alt.Color(field=\"value\", type=\"nominal\")\n",
        ").properties(\n",
        "    height=25,\n",
        ").interactive()\n"
      ],
      "metadata": {
        "id": "EUatpRpkxBRL"
      },
      "execution_count": null,
      "outputs": []
    },
    {
      "cell_type": "code",
      "source": [
        ""
      ],
      "metadata": {
        "id": "0151fxjeR7KJ"
      },
      "execution_count": null,
      "outputs": []
    },
    {
      "cell_type": "code",
      "source": [
        "sum"
      ],
      "metadata": {
        "id": "gqrAXs_R09Qq"
      },
      "execution_count": null,
      "outputs": []
    }
  ]
}